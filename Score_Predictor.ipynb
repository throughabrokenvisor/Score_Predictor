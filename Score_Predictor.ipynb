{
  "nbformat": 4,
  "nbformat_minor": 0,
  "metadata": {
    "colab": {
      "provenance": []
    },
    "kernelspec": {
      "name": "python3",
      "display_name": "Python 3"
    },
    "language_info": {
      "name": "python"
    }
  },
  "cells": [
    {
      "cell_type": "code",
      "execution_count": 2,
      "metadata": {
        "id": "Jmh_-vK93Fss"
      },
      "outputs": [],
      "source": [
        "import pandas as pd\n",
        "import xgboost as xgb\n",
        "from sklearn.model_selection import train_test_split\n",
        "from sklearn.metrics import mean_squared_error"
      ]
    },
    {
      "cell_type": "code",
      "source": [
        "data1 = pd.read_csv('/content/results.csv') \n",
        "# Load the dataset\n",
        "\n",
        "data1['sco_diff'] = abs(data1['home_score'] - data1['away_score'])"
      ],
      "metadata": {
        "id": "TYvCK9xl4wWu"
      },
      "execution_count": 19,
      "outputs": []
    },
    {
      "cell_type": "code",
      "source": [
        "data = data1[['home_team','away_team','home_score','away_score','sco_diff']]"
      ],
      "metadata": {
        "id": "IesCMMsa6Iqh"
      },
      "execution_count": 20,
      "outputs": []
    },
    {
      "cell_type": "code",
      "source": [
        "data['home_team'] = data['home_team'].astype('category')\n",
        "data['away_team'] = data['away_team'].astype('category')\n",
        "print(data.dtypes)"
      ],
      "metadata": {
        "id": "Tm60rQWZ6JuW"
      },
      "execution_count": null,
      "outputs": []
    },
    {
      "cell_type": "code",
      "source": [
        "# Define the features and target variable\n",
        "features = ['home_team', 'away_team', 'home_score', 'away_score']\n",
        "target = 'sco_diff'\n",
        "\n",
        "# Split the data into training and testing sets\n",
        "X_train, X_test, y_train, y_test = train_test_split(data[features], data[target], test_size=0.2, random_state=42)\n",
        "\n",
        "# Create the XGBoost regression model\n",
        "train_dmatrix = xgb.DMatrix(X_train, label=y_train, enable_categorical=True)\n",
        "test_dmatrix = xgb.DMatrix(X_test, label=y_test, enable_categorical=True)\n",
        "\n",
        "params = {\n",
        "    'objective': 'reg:squarederror',\n",
        "    'eta': 0.25,\n",
        "    'max_depth': 6,\n",
        "    'num_boost_round': 100\n",
        "}\n",
        "# Train the model\n",
        "model = xgb.train(params, train_dmatrix)\n",
        "# Make predictions on the test set\n",
        "y_pred = model.predict(test_dmatrix)\n",
        "\n",
        "# Evaluate the model\n",
        "mse = mean_squared_error(y_test, y_pred)\n",
        "print('Mean Squared Error:', mse)"
      ],
      "metadata": {
        "colab": {
          "base_uri": "https://localhost:8080/"
        },
        "id": "XY-FLrSa4xGn",
        "outputId": "89722831-8aef-41d7-a17d-0026d9910936"
      },
      "execution_count": 36,
      "outputs": [
        {
          "output_type": "stream",
          "name": "stdout",
          "text": [
            "[13:41:16] WARNING: ../src/learner.cc:767: \n",
            "Parameters: { \"num_boost_round\" } are not used.\n",
            "\n",
            "Mean Squared Error: 0.039324608001715805\n"
          ]
        }
      ]
    }
  ]
}